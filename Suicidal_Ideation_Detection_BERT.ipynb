{
  "cells": [
    {
      "cell_type": "markdown",
      "metadata": {
        "id": "LMIwTiOwiGK5"
      },
      "source": [
        "# **Import librares**"
      ]
    },
    {
      "cell_type": "code",
      "execution_count": 16,
      "metadata": {
        "colab": {
          "base_uri": "https://localhost:8080/"
        },
        "id": "2bU21R8TAR0x",
        "outputId": "f121daeb-90fe-47b2-c7a6-e61a1cc7e5c1"
      },
      "outputs": [
        {
          "output_type": "stream",
          "name": "stdout",
          "text": [
            "Looking in indexes: https://pypi.org/simple, https://us-python.pkg.dev/colab-wheels/public/simple/\n",
            "Requirement already satisfied: Keras-Preprocessing in /usr/local/lib/python3.9/dist-packages (1.1.2)\n",
            "Requirement already satisfied: numpy>=1.9.1 in /usr/local/lib/python3.9/dist-packages (from Keras-Preprocessing) (1.22.4)\n",
            "Requirement already satisfied: six>=1.9.0 in /usr/local/lib/python3.9/dist-packages (from Keras-Preprocessing) (1.16.0)\n",
            "Looking in indexes: https://pypi.org/simple, https://us-python.pkg.dev/colab-wheels/public/simple/\n",
            "Requirement already satisfied: ktrain in /usr/local/lib/python3.9/dist-packages (0.36.0)\n",
            "Requirement already satisfied: requests in /usr/local/lib/python3.9/dist-packages (from ktrain) (2.27.1)\n",
            "Requirement already satisfied: scikit-learn in /usr/local/lib/python3.9/dist-packages (from ktrain) (1.2.2)\n",
            "Requirement already satisfied: joblib in /usr/local/lib/python3.9/dist-packages (from ktrain) (1.2.0)\n",
            "Requirement already satisfied: keras-bert>=0.86.0 in /usr/local/lib/python3.9/dist-packages (from ktrain) (0.89.0)\n",
            "Requirement already satisfied: fastprogress>=0.1.21 in /usr/local/lib/python3.9/dist-packages (from ktrain) (1.0.3)\n",
            "Requirement already satisfied: cchardet in /usr/local/lib/python3.9/dist-packages (from ktrain) (2.1.7)\n",
            "Requirement already satisfied: langdetect in /usr/local/lib/python3.9/dist-packages (from ktrain) (1.0.9)\n",
            "Requirement already satisfied: transformers>=4.17.0 in /usr/local/lib/python3.9/dist-packages (from ktrain) (4.28.1)\n",
            "Requirement already satisfied: packaging in /usr/local/lib/python3.9/dist-packages (from ktrain) (23.1)\n",
            "Requirement already satisfied: sentencepiece in /usr/local/lib/python3.9/dist-packages (from ktrain) (0.1.98)\n",
            "Requirement already satisfied: jieba in /usr/local/lib/python3.9/dist-packages (from ktrain) (0.42.1)\n",
            "Requirement already satisfied: chardet in /usr/local/lib/python3.9/dist-packages (from ktrain) (4.0.0)\n",
            "Requirement already satisfied: tika in /usr/local/lib/python3.9/dist-packages (from ktrain) (2.6.0)\n",
            "Requirement already satisfied: pandas>=1.0.1 in /usr/local/lib/python3.9/dist-packages (from ktrain) (1.5.3)\n",
            "Requirement already satisfied: matplotlib>=3.0.0 in /usr/local/lib/python3.9/dist-packages (from ktrain) (3.7.1)\n",
            "Requirement already satisfied: whoosh in /usr/local/lib/python3.9/dist-packages (from ktrain) (2.7.4)\n",
            "Requirement already satisfied: syntok>1.3.3 in /usr/local/lib/python3.9/dist-packages (from ktrain) (1.4.4)\n",
            "Requirement already satisfied: keras-transformer==0.40.0 in /usr/local/lib/python3.9/dist-packages (from keras-bert>=0.86.0->ktrain) (0.40.0)\n",
            "Requirement already satisfied: numpy in /usr/local/lib/python3.9/dist-packages (from keras-bert>=0.86.0->ktrain) (1.22.4)\n",
            "Requirement already satisfied: keras-embed-sim==0.10.0 in /usr/local/lib/python3.9/dist-packages (from keras-transformer==0.40.0->keras-bert>=0.86.0->ktrain) (0.10.0)\n",
            "Requirement already satisfied: keras-multi-head==0.29.0 in /usr/local/lib/python3.9/dist-packages (from keras-transformer==0.40.0->keras-bert>=0.86.0->ktrain) (0.29.0)\n",
            "Requirement already satisfied: keras-layer-normalization==0.16.0 in /usr/local/lib/python3.9/dist-packages (from keras-transformer==0.40.0->keras-bert>=0.86.0->ktrain) (0.16.0)\n",
            "Requirement already satisfied: keras-pos-embd==0.13.0 in /usr/local/lib/python3.9/dist-packages (from keras-transformer==0.40.0->keras-bert>=0.86.0->ktrain) (0.13.0)\n",
            "Requirement already satisfied: keras-position-wise-feed-forward==0.8.0 in /usr/local/lib/python3.9/dist-packages (from keras-transformer==0.40.0->keras-bert>=0.86.0->ktrain) (0.8.0)\n",
            "Requirement already satisfied: keras-self-attention==0.51.0 in /usr/local/lib/python3.9/dist-packages (from keras-multi-head==0.29.0->keras-transformer==0.40.0->keras-bert>=0.86.0->ktrain) (0.51.0)\n",
            "Requirement already satisfied: cycler>=0.10 in /usr/local/lib/python3.9/dist-packages (from matplotlib>=3.0.0->ktrain) (0.11.0)\n",
            "Requirement already satisfied: python-dateutil>=2.7 in /usr/local/lib/python3.9/dist-packages (from matplotlib>=3.0.0->ktrain) (2.8.2)\n",
            "Requirement already satisfied: kiwisolver>=1.0.1 in /usr/local/lib/python3.9/dist-packages (from matplotlib>=3.0.0->ktrain) (1.4.4)\n",
            "Requirement already satisfied: pillow>=6.2.0 in /usr/local/lib/python3.9/dist-packages (from matplotlib>=3.0.0->ktrain) (8.4.0)\n",
            "Requirement already satisfied: fonttools>=4.22.0 in /usr/local/lib/python3.9/dist-packages (from matplotlib>=3.0.0->ktrain) (4.39.3)\n",
            "Requirement already satisfied: pyparsing>=2.3.1 in /usr/local/lib/python3.9/dist-packages (from matplotlib>=3.0.0->ktrain) (3.0.9)\n",
            "Requirement already satisfied: importlib-resources>=3.2.0 in /usr/local/lib/python3.9/dist-packages (from matplotlib>=3.0.0->ktrain) (5.12.0)\n",
            "Requirement already satisfied: contourpy>=1.0.1 in /usr/local/lib/python3.9/dist-packages (from matplotlib>=3.0.0->ktrain) (1.0.7)\n",
            "Requirement already satisfied: pytz>=2020.1 in /usr/local/lib/python3.9/dist-packages (from pandas>=1.0.1->ktrain) (2022.7.1)\n",
            "Requirement already satisfied: regex>2016 in /usr/local/lib/python3.9/dist-packages (from syntok>1.3.3->ktrain) (2022.10.31)\n",
            "Requirement already satisfied: filelock in /usr/local/lib/python3.9/dist-packages (from transformers>=4.17.0->ktrain) (3.11.0)\n",
            "Requirement already satisfied: pyyaml>=5.1 in /usr/local/lib/python3.9/dist-packages (from transformers>=4.17.0->ktrain) (6.0)\n",
            "Requirement already satisfied: huggingface-hub<1.0,>=0.11.0 in /usr/local/lib/python3.9/dist-packages (from transformers>=4.17.0->ktrain) (0.14.0)\n",
            "Requirement already satisfied: tokenizers!=0.11.3,<0.14,>=0.11.1 in /usr/local/lib/python3.9/dist-packages (from transformers>=4.17.0->ktrain) (0.13.3)\n",
            "Requirement already satisfied: tqdm>=4.27 in /usr/local/lib/python3.9/dist-packages (from transformers>=4.17.0->ktrain) (4.65.0)\n",
            "Requirement already satisfied: six in /usr/local/lib/python3.9/dist-packages (from langdetect->ktrain) (1.16.0)\n",
            "Requirement already satisfied: idna<4,>=2.5 in /usr/local/lib/python3.9/dist-packages (from requests->ktrain) (3.4)\n",
            "Requirement already satisfied: certifi>=2017.4.17 in /usr/local/lib/python3.9/dist-packages (from requests->ktrain) (2022.12.7)\n",
            "Requirement already satisfied: charset-normalizer~=2.0.0 in /usr/local/lib/python3.9/dist-packages (from requests->ktrain) (2.0.12)\n",
            "Requirement already satisfied: urllib3<1.27,>=1.21.1 in /usr/local/lib/python3.9/dist-packages (from requests->ktrain) (1.26.15)\n",
            "Requirement already satisfied: threadpoolctl>=2.0.0 in /usr/local/lib/python3.9/dist-packages (from scikit-learn->ktrain) (3.1.0)\n",
            "Requirement already satisfied: scipy>=1.3.2 in /usr/local/lib/python3.9/dist-packages (from scikit-learn->ktrain) (1.10.1)\n",
            "Requirement already satisfied: setuptools in /usr/local/lib/python3.9/dist-packages (from tika->ktrain) (67.7.1)\n",
            "Requirement already satisfied: typing-extensions>=3.7.4.3 in /usr/local/lib/python3.9/dist-packages (from huggingface-hub<1.0,>=0.11.0->transformers>=4.17.0->ktrain) (4.5.0)\n",
            "Requirement already satisfied: fsspec in /usr/local/lib/python3.9/dist-packages (from huggingface-hub<1.0,>=0.11.0->transformers>=4.17.0->ktrain) (2023.4.0)\n",
            "Requirement already satisfied: zipp>=3.1.0 in /usr/local/lib/python3.9/dist-packages (from importlib-resources>=3.2.0->matplotlib>=3.0.0->ktrain) (3.15.0)\n"
          ]
        },
        {
          "output_type": "stream",
          "name": "stderr",
          "text": [
            "[nltk_data] Downloading package stopwords to /root/nltk_data...\n",
            "[nltk_data]   Package stopwords is already up-to-date!\n",
            "[nltk_data] Downloading package wordnet to /root/nltk_data...\n",
            "[nltk_data]   Package wordnet is already up-to-date!\n",
            "[nltk_data] Downloading package omw-1.4 to /root/nltk_data...\n",
            "[nltk_data]   Package omw-1.4 is already up-to-date!\n",
            "[nltk_data] Downloading package gutenberg to /root/nltk_data...\n",
            "[nltk_data]   Package gutenberg is already up-to-date!\n",
            "[nltk_data] Downloading package brown to /root/nltk_data...\n",
            "[nltk_data]   Package brown is already up-to-date!\n",
            "[nltk_data] Downloading package reuters to /root/nltk_data...\n",
            "[nltk_data]   Package reuters is already up-to-date!\n",
            "[nltk_data] Downloading package words to /root/nltk_data...\n",
            "[nltk_data]   Package words is already up-to-date!\n"
          ]
        },
        {
          "output_type": "execute_result",
          "data": {
            "text/plain": [
              "True"
            ]
          },
          "metadata": {},
          "execution_count": 16
        }
      ],
      "source": [
        "!pip install Keras-Preprocessing\n",
        "!pip install ktrain\n",
        "import numpy as np\n",
        "import pandas as pd\n",
        "import nltk\n",
        "import tensorflow as tf\n",
        "import matplotlib.pyplot as plot\n",
        "import seaborn as sns\n",
        "import plotly.express as px\n",
        "import pickle\n",
        "import joblib\n",
        "import urllib\n",
        "import requests\n",
        "import ktrain\n",
        "from nltk.corpus import stopwords\n",
        "from nltk.corpus import reuters\n",
        "from nltk.corpus import brown\n",
        "from nltk.corpus import gutenberg\n",
        "from nltk.tokenize import RegexpTokenizer\n",
        "from collections import Counter\n",
        "from textblob import Word \n",
        "from wordcloud import WordCloud\n",
        "from sklearn.model_selection import train_test_split\n",
        "from sklearn.naive_bayes import MultinomialNB\n",
        "from sklearn.svm import LinearSVC, SVC\n",
        "from sklearn.linear_model import LogisticRegression\n",
        "from sklearn.tree import DecisionTreeClassifier\n",
        "from sklearn.ensemble import GradientBoostingClassifier, RandomForestClassifier, AdaBoostClassifier, VotingClassifier\n",
        "from sklearn.model_selection import KFold \n",
        "from sklearn.metrics import accuracy_score, classification_report, confusion_matrix, precision_score, f1_score, recall_score\n",
        "from sklearn.model_selection import cross_val_score, cross_val_predict\n",
        "from sklearn.feature_extraction.text import CountVectorizer, TfidfTransformer\n",
        "from keras.preprocessing.text import Tokenizer\n",
        "from keras.models import Sequential, load_model\n",
        "from keras.callbacks import ModelCheckpoint, EarlyStopping, ReduceLROnPlateau\n",
        "from keras_preprocessing.sequence import pad_sequences\n",
        "from keras.utils.np_utils import to_categorical\n",
        "from keras.layers import Activation, Dense, Embedding, LSTM, SpatialDropout1D, Dropout, Flatten, GRU, Conv1D, MaxPooling1D, Bidirectional\n",
        "from wordcloud import WordCloud,ImageColorGenerator\n",
        "from PIL import Image\n",
        "from keras.regularizers import l2\n",
        "from ktrain import text\n",
        "sns.set()\n",
        "%matplotlib inline\n",
        "nltk.download('stopwords')\n",
        "nltk.download('wordnet')\n",
        "nltk.download('omw-1.4')\n",
        "nltk.download('gutenberg')\n",
        "nltk.download('brown')\n",
        "nltk.download(\"reuters\")\n",
        "nltk.download('words')"
      ]
    },
    {
      "cell_type": "markdown",
      "metadata": {
        "id": "tCpxu4ePiQqX"
      },
      "source": [
        "### **Load Dataset**"
      ]
    },
    {
      "cell_type": "code",
      "source": [
        "from google.colab import drive\n",
        "drive.mount('/content/drive')"
      ],
      "metadata": {
        "colab": {
          "base_uri": "https://localhost:8080/"
        },
        "id": "PykDfzk9g5XD",
        "outputId": "481cf8ea-46d6-4781-87c3-4d3cf7d7e8e4"
      },
      "execution_count": 17,
      "outputs": [
        {
          "output_type": "stream",
          "name": "stdout",
          "text": [
            "Drive already mounted at /content/drive; to attempt to forcibly remount, call drive.mount(\"/content/drive\", force_remount=True).\n"
          ]
        }
      ]
    },
    {
      "cell_type": "code",
      "execution_count": 18,
      "metadata": {
        "id": "bN-oDIKwosrZ",
        "colab": {
          "base_uri": "https://localhost:8080/",
          "height": 424
        },
        "outputId": "b65172d6-db6f-4eef-d382-6218006c9250"
      },
      "outputs": [
        {
          "output_type": "execute_result",
          "data": {
            "text/plain": [
              "        Unnamed: 0                                               text  \\\n",
              "0                2  Ex Wife Threatening SuicideRecently I left my ...   \n",
              "1                3  Am I weird I don't get affected by compliments...   \n",
              "2                4  Finally 2020 is almost over... So I can never ...   \n",
              "3                8          i need helpjust help me im crying so hard   \n",
              "4                9  I’m so lostHello, my name is Adam (16) and I’v...   \n",
              "...            ...                                                ...   \n",
              "232069      348103  If you don't like rock then your not going to ...   \n",
              "232070      348106  You how you can tell i have so many friends an...   \n",
              "232071      348107  pee probably tastes like salty tea😏💦‼️ can som...   \n",
              "232072      348108  The usual stuff you find hereI'm not posting t...   \n",
              "232073      348110  I still haven't beaten the first boss in Hollo...   \n",
              "\n",
              "              class  \n",
              "0           suicide  \n",
              "1       non-suicide  \n",
              "2       non-suicide  \n",
              "3           suicide  \n",
              "4           suicide  \n",
              "...             ...  \n",
              "232069  non-suicide  \n",
              "232070  non-suicide  \n",
              "232071  non-suicide  \n",
              "232072      suicide  \n",
              "232073  non-suicide  \n",
              "\n",
              "[232074 rows x 3 columns]"
            ],
            "text/html": [
              "\n",
              "  <div id=\"df-b0c2cec1-e7b8-4daa-9eec-1b9f7b18adac\">\n",
              "    <div class=\"colab-df-container\">\n",
              "      <div>\n",
              "<style scoped>\n",
              "    .dataframe tbody tr th:only-of-type {\n",
              "        vertical-align: middle;\n",
              "    }\n",
              "\n",
              "    .dataframe tbody tr th {\n",
              "        vertical-align: top;\n",
              "    }\n",
              "\n",
              "    .dataframe thead th {\n",
              "        text-align: right;\n",
              "    }\n",
              "</style>\n",
              "<table border=\"1\" class=\"dataframe\">\n",
              "  <thead>\n",
              "    <tr style=\"text-align: right;\">\n",
              "      <th></th>\n",
              "      <th>Unnamed: 0</th>\n",
              "      <th>text</th>\n",
              "      <th>class</th>\n",
              "    </tr>\n",
              "  </thead>\n",
              "  <tbody>\n",
              "    <tr>\n",
              "      <th>0</th>\n",
              "      <td>2</td>\n",
              "      <td>Ex Wife Threatening SuicideRecently I left my ...</td>\n",
              "      <td>suicide</td>\n",
              "    </tr>\n",
              "    <tr>\n",
              "      <th>1</th>\n",
              "      <td>3</td>\n",
              "      <td>Am I weird I don't get affected by compliments...</td>\n",
              "      <td>non-suicide</td>\n",
              "    </tr>\n",
              "    <tr>\n",
              "      <th>2</th>\n",
              "      <td>4</td>\n",
              "      <td>Finally 2020 is almost over... So I can never ...</td>\n",
              "      <td>non-suicide</td>\n",
              "    </tr>\n",
              "    <tr>\n",
              "      <th>3</th>\n",
              "      <td>8</td>\n",
              "      <td>i need helpjust help me im crying so hard</td>\n",
              "      <td>suicide</td>\n",
              "    </tr>\n",
              "    <tr>\n",
              "      <th>4</th>\n",
              "      <td>9</td>\n",
              "      <td>I’m so lostHello, my name is Adam (16) and I’v...</td>\n",
              "      <td>suicide</td>\n",
              "    </tr>\n",
              "    <tr>\n",
              "      <th>...</th>\n",
              "      <td>...</td>\n",
              "      <td>...</td>\n",
              "      <td>...</td>\n",
              "    </tr>\n",
              "    <tr>\n",
              "      <th>232069</th>\n",
              "      <td>348103</td>\n",
              "      <td>If you don't like rock then your not going to ...</td>\n",
              "      <td>non-suicide</td>\n",
              "    </tr>\n",
              "    <tr>\n",
              "      <th>232070</th>\n",
              "      <td>348106</td>\n",
              "      <td>You how you can tell i have so many friends an...</td>\n",
              "      <td>non-suicide</td>\n",
              "    </tr>\n",
              "    <tr>\n",
              "      <th>232071</th>\n",
              "      <td>348107</td>\n",
              "      <td>pee probably tastes like salty tea😏💦‼️ can som...</td>\n",
              "      <td>non-suicide</td>\n",
              "    </tr>\n",
              "    <tr>\n",
              "      <th>232072</th>\n",
              "      <td>348108</td>\n",
              "      <td>The usual stuff you find hereI'm not posting t...</td>\n",
              "      <td>suicide</td>\n",
              "    </tr>\n",
              "    <tr>\n",
              "      <th>232073</th>\n",
              "      <td>348110</td>\n",
              "      <td>I still haven't beaten the first boss in Hollo...</td>\n",
              "      <td>non-suicide</td>\n",
              "    </tr>\n",
              "  </tbody>\n",
              "</table>\n",
              "<p>232074 rows × 3 columns</p>\n",
              "</div>\n",
              "      <button class=\"colab-df-convert\" onclick=\"convertToInteractive('df-b0c2cec1-e7b8-4daa-9eec-1b9f7b18adac')\"\n",
              "              title=\"Convert this dataframe to an interactive table.\"\n",
              "              style=\"display:none;\">\n",
              "        \n",
              "  <svg xmlns=\"http://www.w3.org/2000/svg\" height=\"24px\"viewBox=\"0 0 24 24\"\n",
              "       width=\"24px\">\n",
              "    <path d=\"M0 0h24v24H0V0z\" fill=\"none\"/>\n",
              "    <path d=\"M18.56 5.44l.94 2.06.94-2.06 2.06-.94-2.06-.94-.94-2.06-.94 2.06-2.06.94zm-11 1L8.5 8.5l.94-2.06 2.06-.94-2.06-.94L8.5 2.5l-.94 2.06-2.06.94zm10 10l.94 2.06.94-2.06 2.06-.94-2.06-.94-.94-2.06-.94 2.06-2.06.94z\"/><path d=\"M17.41 7.96l-1.37-1.37c-.4-.4-.92-.59-1.43-.59-.52 0-1.04.2-1.43.59L10.3 9.45l-7.72 7.72c-.78.78-.78 2.05 0 2.83L4 21.41c.39.39.9.59 1.41.59.51 0 1.02-.2 1.41-.59l7.78-7.78 2.81-2.81c.8-.78.8-2.07 0-2.86zM5.41 20L4 18.59l7.72-7.72 1.47 1.35L5.41 20z\"/>\n",
              "  </svg>\n",
              "      </button>\n",
              "      \n",
              "  <style>\n",
              "    .colab-df-container {\n",
              "      display:flex;\n",
              "      flex-wrap:wrap;\n",
              "      gap: 12px;\n",
              "    }\n",
              "\n",
              "    .colab-df-convert {\n",
              "      background-color: #E8F0FE;\n",
              "      border: none;\n",
              "      border-radius: 50%;\n",
              "      cursor: pointer;\n",
              "      display: none;\n",
              "      fill: #1967D2;\n",
              "      height: 32px;\n",
              "      padding: 0 0 0 0;\n",
              "      width: 32px;\n",
              "    }\n",
              "\n",
              "    .colab-df-convert:hover {\n",
              "      background-color: #E2EBFA;\n",
              "      box-shadow: 0px 1px 2px rgba(60, 64, 67, 0.3), 0px 1px 3px 1px rgba(60, 64, 67, 0.15);\n",
              "      fill: #174EA6;\n",
              "    }\n",
              "\n",
              "    [theme=dark] .colab-df-convert {\n",
              "      background-color: #3B4455;\n",
              "      fill: #D2E3FC;\n",
              "    }\n",
              "\n",
              "    [theme=dark] .colab-df-convert:hover {\n",
              "      background-color: #434B5C;\n",
              "      box-shadow: 0px 1px 3px 1px rgba(0, 0, 0, 0.15);\n",
              "      filter: drop-shadow(0px 1px 2px rgba(0, 0, 0, 0.3));\n",
              "      fill: #FFFFFF;\n",
              "    }\n",
              "  </style>\n",
              "\n",
              "      <script>\n",
              "        const buttonEl =\n",
              "          document.querySelector('#df-b0c2cec1-e7b8-4daa-9eec-1b9f7b18adac button.colab-df-convert');\n",
              "        buttonEl.style.display =\n",
              "          google.colab.kernel.accessAllowed ? 'block' : 'none';\n",
              "\n",
              "        async function convertToInteractive(key) {\n",
              "          const element = document.querySelector('#df-b0c2cec1-e7b8-4daa-9eec-1b9f7b18adac');\n",
              "          const dataTable =\n",
              "            await google.colab.kernel.invokeFunction('convertToInteractive',\n",
              "                                                     [key], {});\n",
              "          if (!dataTable) return;\n",
              "\n",
              "          const docLinkHtml = 'Like what you see? Visit the ' +\n",
              "            '<a target=\"_blank\" href=https://colab.research.google.com/notebooks/data_table.ipynb>data table notebook</a>'\n",
              "            + ' to learn more about interactive tables.';\n",
              "          element.innerHTML = '';\n",
              "          dataTable['output_type'] = 'display_data';\n",
              "          await google.colab.output.renderOutput(dataTable, element);\n",
              "          const docLink = document.createElement('div');\n",
              "          docLink.innerHTML = docLinkHtml;\n",
              "          element.appendChild(docLink);\n",
              "        }\n",
              "      </script>\n",
              "    </div>\n",
              "  </div>\n",
              "  "
            ]
          },
          "metadata": {},
          "execution_count": 18
        }
      ],
      "source": [
        "dataFrame=pd.read_csv(\"/content/drive/MyDrive/nlp_project/Suicide_Detection.csv\", engine='python', encoding='UTF-8')\n",
        "dataFrame"
      ]
    },
    {
      "cell_type": "markdown",
      "metadata": {
        "id": "ZhHsQRlsh-LH"
      },
      "source": [
        "# **Data Cleaning**"
      ]
    },
    {
      "cell_type": "code",
      "execution_count": 19,
      "metadata": {
        "colab": {
          "base_uri": "https://localhost:8080/"
        },
        "id": "_BxOOS9lOv5K",
        "outputId": "30cebb0d-9513-4253-876b-c30af2e52ce4"
      },
      "outputs": [
        {
          "output_type": "execute_result",
          "data": {
            "text/plain": [
              "Unnamed: 0    0\n",
              "text          0\n",
              "class         0\n",
              "dtype: int64"
            ]
          },
          "metadata": {},
          "execution_count": 19
        }
      ],
      "source": [
        "dataFrame['text']=dataFrame['text'].fillna(\"\") \n",
        "dataFrame.isna().sum()"
      ]
    },
    {
      "cell_type": "markdown",
      "metadata": {
        "id": "zLdDEYZmh5Ix"
      },
      "source": [
        "# **Preprocessing**"
      ]
    },
    {
      "cell_type": "code",
      "execution_count": 20,
      "metadata": {
        "id": "8WiypLl3PksF"
      },
      "outputs": [],
      "source": [
        "#Lower Case Conversion\n",
        "dataFrame['lower_case_text']= dataFrame['text'].apply(lambda x: x.lower())\n",
        "\n",
        "# Tokenization\n",
        "regExTokenizer = RegexpTokenizer(r'\\w+')\n",
        "dataFrame['tokens'] = dataFrame.apply(lambda row: regExTokenizer.tokenize(row['lower_case_text']), axis=1)  \n",
        "\n",
        "# Stop Words Removal\n",
        "stop_words = set(stopwords.words('english'))\n",
        "stop_words.remove('not')\n",
        "stop_words.remove('here')\n",
        "stop_words.remove('some')\n",
        "dataFrame['stop_words_removed'] = dataFrame['tokens'].apply(lambda x: [word for word in x if word not in stop_words])\n",
        "dataFrame['stop_words_removed'] = dataFrame['stop_words_removed'].astype('str')\n",
        "\n",
        "# Length based Filtering\n",
        "dataFrame['short_word'] = dataFrame['stop_words_removed'].str.findall('\\w{3,}')\n",
        "dataFrame['string']=dataFrame['short_word'].str.join(' ') \n",
        "\n",
        "# Non-English Words Removal\n",
        "english_words = set(nltk.corpus.words.words())\n",
        "for word in reuters.words():\n",
        "    english_words.add(word)\n",
        "for word in brown.words():\n",
        "    english_words.add(word)\n",
        "for word in gutenberg.words():\n",
        "    english_words.add(word)\n",
        "dataFrame['english_only'] = dataFrame['string'].apply(lambda x: \" \".join(word for word in x.split() if word in english_words))\n",
        "\n",
        "# Lemmatization\n",
        "dataFrame['text'] = dataFrame['english_only'].apply(lambda x: \" \".join([Word(word).lemmatize() for word in x.split()]))"
      ]
    },
    {
      "cell_type": "code",
      "execution_count": 21,
      "metadata": {
        "colab": {
          "base_uri": "https://localhost:8080/",
          "height": 1000
        },
        "id": "_DjgYNp5Cshr",
        "outputId": "eb098b42-3c86-469b-c3c1-0ba8e793e47a"
      },
      "outputs": [
        {
          "output_type": "execute_result",
          "data": {
            "text/plain": [
              "   Unnamed: 0                                               text        class  \\\n",
              "0           2  wife threatening left wife good cheated twice ...      suicide   \n",
              "1           3  weird get affected compliment coming someone k...  non-suicide   \n",
              "2           4  finally almost never hear bad year ever swear ...  non-suicide   \n",
              "3           8                                 need help cry hard      suicide   \n",
              "4           9  name struggling year afraid past year thought ...      suicide   \n",
              "5          11  dont know even here feel like nothing nowhere ...      suicide   \n",
              "6          12  trigger warning excuse self inflicted burn kno...      suicide   \n",
              "7          13                           end tonight anymore quit      suicide   \n",
              "8          16  everyone want edgy making self conscious feel ...  non-suicide   \n",
              "9          18  life year year old balding male hairline trash...      suicide   \n",
              "\n",
              "                                     lower_case_text  \\\n",
              "0  ex wife threatening suiciderecently i left my ...   \n",
              "1  am i weird i don't get affected by compliments...   \n",
              "2  finally 2020 is almost over... so i can never ...   \n",
              "3          i need helpjust help me im crying so hard   \n",
              "4  i’m so losthello, my name is adam (16) and i’v...   \n",
              "5  honetly idki dont know what im even doing here...   \n",
              "6  [trigger warning] excuse for self inflicted bu...   \n",
              "7   it ends tonight.i can’t do it anymore. \\ni quit.   \n",
              "8  everyone wants to be \"edgy\" and it's making me...   \n",
              "9  my life is over at 20 years oldhello all. i am...   \n",
              "\n",
              "                                              tokens  \\\n",
              "0  [ex, wife, threatening, suiciderecently, i, le...   \n",
              "1  [am, i, weird, i, don, t, get, affected, by, c...   \n",
              "2  [finally, 2020, is, almost, over, so, i, can, ...   \n",
              "3  [i, need, helpjust, help, me, im, crying, so, ...   \n",
              "4  [i, m, so, losthello, my, name, is, adam, 16, ...   \n",
              "5  [honetly, idki, dont, know, what, im, even, do...   \n",
              "6  [trigger, warning, excuse, for, self, inflicte...   \n",
              "7  [it, ends, tonight, i, can, t, do, it, anymore...   \n",
              "8  [everyone, wants, to, be, edgy, and, it, s, ma...   \n",
              "9  [my, life, is, over, at, 20, years, oldhello, ...   \n",
              "\n",
              "                                  stop_words_removed  \\\n",
              "0  ['ex', 'wife', 'threatening', 'suiciderecently...   \n",
              "1  ['weird', 'get', 'affected', 'compliments', 'c...   \n",
              "2  ['finally', '2020', 'almost', 'never', 'hear',...   \n",
              "3  ['need', 'helpjust', 'help', 'im', 'crying', '...   \n",
              "4  ['losthello', 'name', 'adam', '16', 'strugglin...   \n",
              "5  ['honetly', 'idki', 'dont', 'know', 'im', 'eve...   \n",
              "6  ['trigger', 'warning', 'excuse', 'self', 'infl...   \n",
              "7             ['ends', 'tonight', 'anymore', 'quit']   \n",
              "8  ['everyone', 'wants', 'edgy', 'making', 'self'...   \n",
              "9  ['life', '20', 'years', 'oldhello', '20', 'yea...   \n",
              "\n",
              "                                          short_word  \\\n",
              "0  [wife, threatening, suiciderecently, left, wif...   \n",
              "1  [weird, get, affected, compliments, coming, so...   \n",
              "2  [finally, 2020, almost, never, hear, 2020, bad...   \n",
              "3               [need, helpjust, help, crying, hard]   \n",
              "4  [losthello, name, adam, struggling, years, afr...   \n",
              "5  [honetly, idki, dont, know, even, here, feel, ...   \n",
              "6  [trigger, warning, excuse, self, inflicted, bu...   \n",
              "7                     [ends, tonight, anymore, quit]   \n",
              "8  [everyone, wants, edgy, making, self, consciou...   \n",
              "9  [life, years, oldhello, year, old, balding, ma...   \n",
              "\n",
              "                                              string  \\\n",
              "0  wife threatening suiciderecently left wife goo...   \n",
              "1  weird get affected compliments coming someone ...   \n",
              "2  finally 2020 almost never hear 2020 bad year e...   \n",
              "3                     need helpjust help crying hard   \n",
              "4  losthello name adam struggling years afraid pa...   \n",
              "5  honetly idki dont know even here feel like not...   \n",
              "6  trigger warning excuse self inflicted burns kn...   \n",
              "7                          ends tonight anymore quit   \n",
              "8  everyone wants edgy making self conscious feel...   \n",
              "9  life years oldhello year old balding male hair...   \n",
              "\n",
              "                                        english_only  \n",
              "0  wife threatening left wife good cheated twice ...  \n",
              "1  weird get affected compliments coming someone ...  \n",
              "2  finally almost never hear bad year ever swear ...  \n",
              "3                              need help crying hard  \n",
              "4  name struggling years afraid past years though...  \n",
              "5  dont know even here feel like nothing nowhere ...  \n",
              "6  trigger warning excuse self inflicted burns kn...  \n",
              "7                          ends tonight anymore quit  \n",
              "8  everyone wants edgy making self conscious feel...  \n",
              "9  life years year old balding male hairline tras...  "
            ],
            "text/html": [
              "\n",
              "  <div id=\"df-014ce56b-1872-4402-98e9-bfd6da33b8e4\">\n",
              "    <div class=\"colab-df-container\">\n",
              "      <div>\n",
              "<style scoped>\n",
              "    .dataframe tbody tr th:only-of-type {\n",
              "        vertical-align: middle;\n",
              "    }\n",
              "\n",
              "    .dataframe tbody tr th {\n",
              "        vertical-align: top;\n",
              "    }\n",
              "\n",
              "    .dataframe thead th {\n",
              "        text-align: right;\n",
              "    }\n",
              "</style>\n",
              "<table border=\"1\" class=\"dataframe\">\n",
              "  <thead>\n",
              "    <tr style=\"text-align: right;\">\n",
              "      <th></th>\n",
              "      <th>Unnamed: 0</th>\n",
              "      <th>text</th>\n",
              "      <th>class</th>\n",
              "      <th>lower_case_text</th>\n",
              "      <th>tokens</th>\n",
              "      <th>stop_words_removed</th>\n",
              "      <th>short_word</th>\n",
              "      <th>string</th>\n",
              "      <th>english_only</th>\n",
              "    </tr>\n",
              "  </thead>\n",
              "  <tbody>\n",
              "    <tr>\n",
              "      <th>0</th>\n",
              "      <td>2</td>\n",
              "      <td>wife threatening left wife good cheated twice ...</td>\n",
              "      <td>suicide</td>\n",
              "      <td>ex wife threatening suiciderecently i left my ...</td>\n",
              "      <td>[ex, wife, threatening, suiciderecently, i, le...</td>\n",
              "      <td>['ex', 'wife', 'threatening', 'suiciderecently...</td>\n",
              "      <td>[wife, threatening, suiciderecently, left, wif...</td>\n",
              "      <td>wife threatening suiciderecently left wife goo...</td>\n",
              "      <td>wife threatening left wife good cheated twice ...</td>\n",
              "    </tr>\n",
              "    <tr>\n",
              "      <th>1</th>\n",
              "      <td>3</td>\n",
              "      <td>weird get affected compliment coming someone k...</td>\n",
              "      <td>non-suicide</td>\n",
              "      <td>am i weird i don't get affected by compliments...</td>\n",
              "      <td>[am, i, weird, i, don, t, get, affected, by, c...</td>\n",
              "      <td>['weird', 'get', 'affected', 'compliments', 'c...</td>\n",
              "      <td>[weird, get, affected, compliments, coming, so...</td>\n",
              "      <td>weird get affected compliments coming someone ...</td>\n",
              "      <td>weird get affected compliments coming someone ...</td>\n",
              "    </tr>\n",
              "    <tr>\n",
              "      <th>2</th>\n",
              "      <td>4</td>\n",
              "      <td>finally almost never hear bad year ever swear ...</td>\n",
              "      <td>non-suicide</td>\n",
              "      <td>finally 2020 is almost over... so i can never ...</td>\n",
              "      <td>[finally, 2020, is, almost, over, so, i, can, ...</td>\n",
              "      <td>['finally', '2020', 'almost', 'never', 'hear',...</td>\n",
              "      <td>[finally, 2020, almost, never, hear, 2020, bad...</td>\n",
              "      <td>finally 2020 almost never hear 2020 bad year e...</td>\n",
              "      <td>finally almost never hear bad year ever swear ...</td>\n",
              "    </tr>\n",
              "    <tr>\n",
              "      <th>3</th>\n",
              "      <td>8</td>\n",
              "      <td>need help cry hard</td>\n",
              "      <td>suicide</td>\n",
              "      <td>i need helpjust help me im crying so hard</td>\n",
              "      <td>[i, need, helpjust, help, me, im, crying, so, ...</td>\n",
              "      <td>['need', 'helpjust', 'help', 'im', 'crying', '...</td>\n",
              "      <td>[need, helpjust, help, crying, hard]</td>\n",
              "      <td>need helpjust help crying hard</td>\n",
              "      <td>need help crying hard</td>\n",
              "    </tr>\n",
              "    <tr>\n",
              "      <th>4</th>\n",
              "      <td>9</td>\n",
              "      <td>name struggling year afraid past year thought ...</td>\n",
              "      <td>suicide</td>\n",
              "      <td>i’m so losthello, my name is adam (16) and i’v...</td>\n",
              "      <td>[i, m, so, losthello, my, name, is, adam, 16, ...</td>\n",
              "      <td>['losthello', 'name', 'adam', '16', 'strugglin...</td>\n",
              "      <td>[losthello, name, adam, struggling, years, afr...</td>\n",
              "      <td>losthello name adam struggling years afraid pa...</td>\n",
              "      <td>name struggling years afraid past years though...</td>\n",
              "    </tr>\n",
              "    <tr>\n",
              "      <th>5</th>\n",
              "      <td>11</td>\n",
              "      <td>dont know even here feel like nothing nowhere ...</td>\n",
              "      <td>suicide</td>\n",
              "      <td>honetly idki dont know what im even doing here...</td>\n",
              "      <td>[honetly, idki, dont, know, what, im, even, do...</td>\n",
              "      <td>['honetly', 'idki', 'dont', 'know', 'im', 'eve...</td>\n",
              "      <td>[honetly, idki, dont, know, even, here, feel, ...</td>\n",
              "      <td>honetly idki dont know even here feel like not...</td>\n",
              "      <td>dont know even here feel like nothing nowhere ...</td>\n",
              "    </tr>\n",
              "    <tr>\n",
              "      <th>6</th>\n",
              "      <td>12</td>\n",
              "      <td>trigger warning excuse self inflicted burn kno...</td>\n",
              "      <td>suicide</td>\n",
              "      <td>[trigger warning] excuse for self inflicted bu...</td>\n",
              "      <td>[trigger, warning, excuse, for, self, inflicte...</td>\n",
              "      <td>['trigger', 'warning', 'excuse', 'self', 'infl...</td>\n",
              "      <td>[trigger, warning, excuse, self, inflicted, bu...</td>\n",
              "      <td>trigger warning excuse self inflicted burns kn...</td>\n",
              "      <td>trigger warning excuse self inflicted burns kn...</td>\n",
              "    </tr>\n",
              "    <tr>\n",
              "      <th>7</th>\n",
              "      <td>13</td>\n",
              "      <td>end tonight anymore quit</td>\n",
              "      <td>suicide</td>\n",
              "      <td>it ends tonight.i can’t do it anymore. \\ni quit.</td>\n",
              "      <td>[it, ends, tonight, i, can, t, do, it, anymore...</td>\n",
              "      <td>['ends', 'tonight', 'anymore', 'quit']</td>\n",
              "      <td>[ends, tonight, anymore, quit]</td>\n",
              "      <td>ends tonight anymore quit</td>\n",
              "      <td>ends tonight anymore quit</td>\n",
              "    </tr>\n",
              "    <tr>\n",
              "      <th>8</th>\n",
              "      <td>16</td>\n",
              "      <td>everyone want edgy making self conscious feel ...</td>\n",
              "      <td>non-suicide</td>\n",
              "      <td>everyone wants to be \"edgy\" and it's making me...</td>\n",
              "      <td>[everyone, wants, to, be, edgy, and, it, s, ma...</td>\n",
              "      <td>['everyone', 'wants', 'edgy', 'making', 'self'...</td>\n",
              "      <td>[everyone, wants, edgy, making, self, consciou...</td>\n",
              "      <td>everyone wants edgy making self conscious feel...</td>\n",
              "      <td>everyone wants edgy making self conscious feel...</td>\n",
              "    </tr>\n",
              "    <tr>\n",
              "      <th>9</th>\n",
              "      <td>18</td>\n",
              "      <td>life year year old balding male hairline trash...</td>\n",
              "      <td>suicide</td>\n",
              "      <td>my life is over at 20 years oldhello all. i am...</td>\n",
              "      <td>[my, life, is, over, at, 20, years, oldhello, ...</td>\n",
              "      <td>['life', '20', 'years', 'oldhello', '20', 'yea...</td>\n",
              "      <td>[life, years, oldhello, year, old, balding, ma...</td>\n",
              "      <td>life years oldhello year old balding male hair...</td>\n",
              "      <td>life years year old balding male hairline tras...</td>\n",
              "    </tr>\n",
              "  </tbody>\n",
              "</table>\n",
              "</div>\n",
              "      <button class=\"colab-df-convert\" onclick=\"convertToInteractive('df-014ce56b-1872-4402-98e9-bfd6da33b8e4')\"\n",
              "              title=\"Convert this dataframe to an interactive table.\"\n",
              "              style=\"display:none;\">\n",
              "        \n",
              "  <svg xmlns=\"http://www.w3.org/2000/svg\" height=\"24px\"viewBox=\"0 0 24 24\"\n",
              "       width=\"24px\">\n",
              "    <path d=\"M0 0h24v24H0V0z\" fill=\"none\"/>\n",
              "    <path d=\"M18.56 5.44l.94 2.06.94-2.06 2.06-.94-2.06-.94-.94-2.06-.94 2.06-2.06.94zm-11 1L8.5 8.5l.94-2.06 2.06-.94-2.06-.94L8.5 2.5l-.94 2.06-2.06.94zm10 10l.94 2.06.94-2.06 2.06-.94-2.06-.94-.94-2.06-.94 2.06-2.06.94z\"/><path d=\"M17.41 7.96l-1.37-1.37c-.4-.4-.92-.59-1.43-.59-.52 0-1.04.2-1.43.59L10.3 9.45l-7.72 7.72c-.78.78-.78 2.05 0 2.83L4 21.41c.39.39.9.59 1.41.59.51 0 1.02-.2 1.41-.59l7.78-7.78 2.81-2.81c.8-.78.8-2.07 0-2.86zM5.41 20L4 18.59l7.72-7.72 1.47 1.35L5.41 20z\"/>\n",
              "  </svg>\n",
              "      </button>\n",
              "      \n",
              "  <style>\n",
              "    .colab-df-container {\n",
              "      display:flex;\n",
              "      flex-wrap:wrap;\n",
              "      gap: 12px;\n",
              "    }\n",
              "\n",
              "    .colab-df-convert {\n",
              "      background-color: #E8F0FE;\n",
              "      border: none;\n",
              "      border-radius: 50%;\n",
              "      cursor: pointer;\n",
              "      display: none;\n",
              "      fill: #1967D2;\n",
              "      height: 32px;\n",
              "      padding: 0 0 0 0;\n",
              "      width: 32px;\n",
              "    }\n",
              "\n",
              "    .colab-df-convert:hover {\n",
              "      background-color: #E2EBFA;\n",
              "      box-shadow: 0px 1px 2px rgba(60, 64, 67, 0.3), 0px 1px 3px 1px rgba(60, 64, 67, 0.15);\n",
              "      fill: #174EA6;\n",
              "    }\n",
              "\n",
              "    [theme=dark] .colab-df-convert {\n",
              "      background-color: #3B4455;\n",
              "      fill: #D2E3FC;\n",
              "    }\n",
              "\n",
              "    [theme=dark] .colab-df-convert:hover {\n",
              "      background-color: #434B5C;\n",
              "      box-shadow: 0px 1px 3px 1px rgba(0, 0, 0, 0.15);\n",
              "      filter: drop-shadow(0px 1px 2px rgba(0, 0, 0, 0.3));\n",
              "      fill: #FFFFFF;\n",
              "    }\n",
              "  </style>\n",
              "\n",
              "      <script>\n",
              "        const buttonEl =\n",
              "          document.querySelector('#df-014ce56b-1872-4402-98e9-bfd6da33b8e4 button.colab-df-convert');\n",
              "        buttonEl.style.display =\n",
              "          google.colab.kernel.accessAllowed ? 'block' : 'none';\n",
              "\n",
              "        async function convertToInteractive(key) {\n",
              "          const element = document.querySelector('#df-014ce56b-1872-4402-98e9-bfd6da33b8e4');\n",
              "          const dataTable =\n",
              "            await google.colab.kernel.invokeFunction('convertToInteractive',\n",
              "                                                     [key], {});\n",
              "          if (!dataTable) return;\n",
              "\n",
              "          const docLinkHtml = 'Like what you see? Visit the ' +\n",
              "            '<a target=\"_blank\" href=https://colab.research.google.com/notebooks/data_table.ipynb>data table notebook</a>'\n",
              "            + ' to learn more about interactive tables.';\n",
              "          element.innerHTML = '';\n",
              "          dataTable['output_type'] = 'display_data';\n",
              "          await google.colab.output.renderOutput(dataTable, element);\n",
              "          const docLink = document.createElement('div');\n",
              "          docLink.innerHTML = docLinkHtml;\n",
              "          element.appendChild(docLink);\n",
              "        }\n",
              "      </script>\n",
              "    </div>\n",
              "  </div>\n",
              "  "
            ]
          },
          "metadata": {},
          "execution_count": 21
        }
      ],
      "source": [
        "dataFrame.head(10)"
      ]
    },
    {
      "cell_type": "markdown",
      "source": [
        "# **BERT**"
      ],
      "metadata": {
        "id": "mq2Vsocw69GW"
      }
    },
    {
      "cell_type": "code",
      "source": [
        "train_x_list, test_x_list, train_y_list, test_y_list = train_test_split(dataFrame['text'], dataFrame['class'], test_size=0.33, random_state=42)\n",
        "train_x_list = train_x_list.tolist()\n",
        "test_x_list = test_x_list.tolist()\n",
        "train_y_list = train_y_list.tolist()\n",
        "test_y_list = test_y_list.tolist()\n",
        "\n",
        "classes = ['suicide', 'non-suicide']"
      ],
      "metadata": {
        "id": "fKA-EfSo6_qr"
      },
      "execution_count": 22,
      "outputs": []
    },
    {
      "cell_type": "code",
      "source": [
        "(train_X,train_Y), (val_X,val_Y), preproc = text.texts_from_array(x_train=train_x_list, y_train=train_y_list,\n",
        "                                                                       x_test=test_x_list, y_test=test_y_list,\n",
        "                                                                       class_names=classes,\n",
        "                                                                       preprocess_mode='bert',\n",
        "                                                                       maxlen=140, \n",
        "                                                                       max_features=5000)"
      ],
      "metadata": {
        "colab": {
          "base_uri": "https://localhost:8080/",
          "height": 215
        },
        "id": "zwfhh58Z9sUS",
        "outputId": "34fb8447-6e93-4709-da6a-514a5fd10fd9"
      },
      "execution_count": 23,
      "outputs": [
        {
          "output_type": "stream",
          "name": "stdout",
          "text": [
            "preprocessing train...\n",
            "language: en\n"
          ]
        },
        {
          "output_type": "display_data",
          "data": {
            "text/plain": [
              "<IPython.core.display.HTML object>"
            ],
            "text/html": [
              "\n",
              "<style>\n",
              "    /* Turns off some styling */\n",
              "    progress {\n",
              "        /* gets rid of default border in Firefox and Opera. */\n",
              "        border: none;\n",
              "        /* Needs to be in here for Safari polyfill so background images work as expected. */\n",
              "        background-size: auto;\n",
              "    }\n",
              "    progress:not([value]), progress:not([value])::-webkit-progress-bar {\n",
              "        background: repeating-linear-gradient(45deg, #7e7e7e, #7e7e7e 10px, #5c5c5c 10px, #5c5c5c 20px);\n",
              "    }\n",
              "    .progress-bar-interrupted, .progress-bar-interrupted::-webkit-progress-bar {\n",
              "        background: #F44336;\n",
              "    }\n",
              "</style>\n"
            ]
          },
          "metadata": {}
        },
        {
          "output_type": "display_data",
          "data": {
            "text/plain": [
              "<IPython.core.display.HTML object>"
            ],
            "text/html": [
              "done."
            ]
          },
          "metadata": {}
        },
        {
          "output_type": "stream",
          "name": "stdout",
          "text": [
            "Is Multi-Label? False\n",
            "preprocessing test...\n",
            "language: en\n"
          ]
        },
        {
          "output_type": "stream",
          "name": "stderr",
          "text": [
            "/usr/local/lib/python3.9/dist-packages/ktrain/utils.py:744: UserWarning: class_names argument was ignored, as they were extracted from string labels in dataset\n",
            "  warnings.warn(\n"
          ]
        },
        {
          "output_type": "display_data",
          "data": {
            "text/plain": [
              "<IPython.core.display.HTML object>"
            ],
            "text/html": [
              "\n",
              "<style>\n",
              "    /* Turns off some styling */\n",
              "    progress {\n",
              "        /* gets rid of default border in Firefox and Opera. */\n",
              "        border: none;\n",
              "        /* Needs to be in here for Safari polyfill so background images work as expected. */\n",
              "        background-size: auto;\n",
              "    }\n",
              "    progress:not([value]), progress:not([value])::-webkit-progress-bar {\n",
              "        background: repeating-linear-gradient(45deg, #7e7e7e, #7e7e7e 10px, #5c5c5c 10px, #5c5c5c 20px);\n",
              "    }\n",
              "    .progress-bar-interrupted, .progress-bar-interrupted::-webkit-progress-bar {\n",
              "        background: #F44336;\n",
              "    }\n",
              "</style>\n"
            ]
          },
          "metadata": {}
        },
        {
          "output_type": "display_data",
          "data": {
            "text/plain": [
              "<IPython.core.display.HTML object>"
            ],
            "text/html": [
              "done."
            ]
          },
          "metadata": {}
        },
        {
          "output_type": "stream",
          "name": "stdout",
          "text": [
            "task: text classification\n"
          ]
        }
      ]
    },
    {
      "cell_type": "code",
      "source": [
        "bert_model = text.text_classifier('bert', train_data=(train_X,train_Y), preproc=preproc)"
      ],
      "metadata": {
        "colab": {
          "base_uri": "https://localhost:8080/"
        },
        "id": "8944i4iD9sjq",
        "outputId": "8457a323-4fcd-4411-a710-34cec81076bf"
      },
      "execution_count": 24,
      "outputs": [
        {
          "output_type": "stream",
          "name": "stdout",
          "text": [
            "Is Multi-Label? False\n",
            "maxlen is 140\n"
          ]
        },
        {
          "output_type": "stream",
          "name": "stderr",
          "text": [
            "/usr/local/lib/python3.9/dist-packages/keras/initializers/initializers.py:120: UserWarning: The initializer GlorotNormal is unseeded and being called multiple times, which will return identical values each time (even if the initializer is unseeded). Please update your code to provide a seed to the initializer, or avoid using the same initalizer instance more than once.\n",
            "  warnings.warn(\n"
          ]
        },
        {
          "output_type": "stream",
          "name": "stdout",
          "text": [
            "done.\n"
          ]
        }
      ]
    },
    {
      "cell_type": "code",
      "source": [
        "ktrain_learner = ktrain.get_learner(bert_model, train_data=(train_X,train_Y), \n",
        "                             val_data=(val_X,val_Y),\n",
        "                             batch_size=32)\n",
        "ktrain_learner.fit_onecycle(2e-5, 3)"
      ],
      "metadata": {
        "colab": {
          "base_uri": "https://localhost:8080/"
        },
        "id": "1qSmFfaf9tIo",
        "outputId": "7bc9a4d7-64ac-41c6-f891-7c78a367d8bb"
      },
      "execution_count": 25,
      "outputs": [
        {
          "output_type": "stream",
          "name": "stdout",
          "text": [
            "\n",
            "\n",
            "begin training using onecycle policy with max lr of 2e-05...\n",
            "Epoch 1/3\n",
            "4860/4860 [==============================] - 5525s 1s/step - loss: 0.2183 - accuracy: 0.9128 - val_loss: 0.1973 - val_accuracy: 0.9241\n",
            "Epoch 2/3\n",
            "4860/4860 [==============================] - 5560s 1s/step - loss: 0.1516 - accuracy: 0.9437 - val_loss: 0.1565 - val_accuracy: 0.9410\n",
            "Epoch 3/3\n",
            "4860/4860 [==============================] - 5503s 1s/step - loss: 0.0866 - accuracy: 0.9688 - val_loss: 0.1721 - val_accuracy: 0.9418\n"
          ]
        },
        {
          "output_type": "execute_result",
          "data": {
            "text/plain": [
              "<keras.callbacks.History at 0x7f911b13cca0>"
            ]
          },
          "metadata": {},
          "execution_count": 25
        }
      ]
    },
    {
      "cell_type": "code",
      "source": [
        "ktrain_learner.plot()"
      ],
      "metadata": {
        "colab": {
          "base_uri": "https://localhost:8080/",
          "height": 480
        },
        "id": "VC4WF2LW92My",
        "outputId": "9b19307e-11ec-42c1-fd50-36efc3c361d1"
      },
      "execution_count": 26,
      "outputs": [
        {
          "output_type": "display_data",
          "data": {
            "text/plain": [
              "<Figure size 640x480 with 1 Axes>"
            ],
            "image/png": "[encoded data removed]"
          },
          "metadata": {}
        }
      ]
    },
    {
      "cell_type": "code",
      "source": [
        "ktrain_learner.validate(val_data=(val_X,val_Y), class_names=classes)"
      ],
      "metadata": {
        "colab": {
          "base_uri": "https://localhost:8080/"
        },
        "id": "rMDII4PW92ev",
        "outputId": "152081ac-3cf6-4738-c5e9-565c49f7fd3e"
      },
      "execution_count": 27,
      "outputs": [
        {
          "output_type": "stream",
          "name": "stdout",
          "text": [
            "2394/2394 [==============================] - 809s 336ms/step\n",
            "              precision    recall  f1-score   support\n",
            "\n",
            "     suicide       0.95      0.94      0.94     38326\n",
            " non-suicide       0.94      0.95      0.94     38259\n",
            "\n",
            "    accuracy                           0.94     76585\n",
            "   macro avg       0.94      0.94      0.94     76585\n",
            "weighted avg       0.94      0.94      0.94     76585\n",
            "\n"
          ]
        },
        {
          "output_type": "execute_result",
          "data": {
            "text/plain": [
              "array([[35917,  2409],\n",
              "       [ 2049, 36210]])"
            ]
          },
          "metadata": {},
          "execution_count": 27
        }
      ]
    },
    {
      "cell_type": "code",
      "source": [
        "pred = ktrain.get_predictor(ktrain_learner.model, preproc)\n",
        "pred.get_classes()"
      ],
      "metadata": {
        "colab": {
          "base_uri": "https://localhost:8080/"
        },
        "id": "6ZTy2vpk9_Xw",
        "outputId": "3c8ae525-1e92-485b-b99d-2c253537b3d1"
      },
      "execution_count": 28,
      "outputs": [
        {
          "output_type": "execute_result",
          "data": {
            "text/plain": [
              "['non-suicide', 'suicide']"
            ]
          },
          "metadata": {},
          "execution_count": 28
        }
      ]
    },
    {
      "cell_type": "code",
      "source": [
        "msg = 'i will kill myself'\n",
        "print('Post : {}'.format(msg))\n",
        "pred_msg = pred.predict(msg)\n",
        "print('Prediction : It is a {} post'.format(pred_msg))"
      ],
      "metadata": {
        "colab": {
          "base_uri": "https://localhost:8080/"
        },
        "id": "7kV5rHZj-BVg",
        "outputId": "3856e88b-d637-4166-da75-4686f27497b3"
      },
      "execution_count": 45,
      "outputs": [
        {
          "output_type": "stream",
          "name": "stdout",
          "text": [
            "Post : i will kill myself\n",
            "Prediction : It is a suicide post\n"
          ]
        }
      ]
    },
    {
      "cell_type": "code",
      "source": [
        "msg = 'i am happy today'\n",
        "print('Post : {}'.format(msg))\n",
        "pred_msg = pred.predict(msg)\n",
        "print('Prediction : It is a {} post'.format(pred_msg))"
      ],
      "metadata": {
        "colab": {
          "base_uri": "https://localhost:8080/"
        },
        "id": "T5m2lQ0mAYpX",
        "outputId": "c6ef64a2-c269-45b9-b4d7-1d9f7b1f57c2"
      },
      "execution_count": 46,
      "outputs": [
        {
          "output_type": "stream",
          "name": "stdout",
          "text": [
            "Post : i am happy today\n",
            "Prediction : It is a non-suicide post\n"
          ]
        }
      ]
    }
  ],
  "metadata": {
    "colab": {
      "provenance": [],
      "machine_shape": "hm"
    },
    "gpuClass": "standard",
    "kernelspec": {
      "display_name": "Python 3",
      "name": "python3"
    },
    "language_info": {
      "name": "python"
    },
    "accelerator": "GPU"
  },
  "nbformat": 4,
  "nbformat_minor": 0
}